{
 "cells": [
  {
   "cell_type": "markdown",
   "id": "d8bbf1b4-e637-415a-a989-4c1943b3a2e2",
   "metadata": {},
   "source": [
    "# Auto Fish Farm Clicker\n",
    "\n",
    "This will produce mouse clicks as if you where clicking your mouse.\n",
    "\n",
    "A cheat sheet of what you can do can be found at https://pyautogui.readthedocs.io/en/latest/quickstart.html "
   ]
  },
  {
   "cell_type": "code",
   "execution_count": null,
   "id": "e9130caa-b338-4f06-9b82-1db5f8faf641",
   "metadata": {},
   "outputs": [],
   "source": [
    "# This try import is useful for brand new JupyterLab installs as the libraries may not yet be downloaded.\n",
    "try:\n",
    "    import pyautogui\n",
    "except ModuleNotFoundError:\n",
    "    ! pip install pyautogui\n",
    "    import pyautogui\n",
    "    pass\n",
    "\n",
    "import time\n"
   ]
  },
  {
   "cell_type": "raw",
   "id": "51f8dbb1-ddae-403c-a689-4c084346d37b",
   "metadata": {
    "jupyter": {
     "source_hidden": true
    },
    "tags": []
   },
   "source": [
    "\n",
    "try:\n",
    "    while True:\n",
    "        x, y = pyautogui.position()\n",
    "        positionStr = 'X: ' + str(x).rjust(4) + ' Y: ' + str(y).rjust(4)\n",
    "        print(positionStr, end='')\n",
    "        print('\\b' * len(positionStr), end='', flush=True)\n",
    "        time.sleep(3)\n",
    "except KeyboardInterrupt:\n",
    "    print('\\n')"
   ]
  },
  {
   "cell_type": "raw",
   "id": "46a3fc13-c867-420e-b243-e7763cbb3d67",
   "metadata": {
    "jupyter": {
     "source_hidden": true
    },
    "tags": []
   },
   "source": [
    "        pyautogui.click(button='right', 1561 , 18)\n"
   ]
  },
  {
   "cell_type": "code",
   "execution_count": null,
   "id": "7e6e6449-127c-4623-a11a-1a6ef2ab5916",
   "metadata": {},
   "outputs": [],
   "source": [
    "pyautogui.FAILSAFE = True # When fail-safe mode is True, moving the mouse to the upper-left will raise a pyautogui.FailSafeException that can abort your program\n",
    "try:\n",
    "    while True:\n",
    "        pyautogui.click(button='right', x= 100 , y=100)\n",
    "        time.sleep(6)\n",
    "        pyautogui.click(button='right', x= 100 , y=100)\n",
    "        time.sleep(.5)\n",
    "except KeyboardInterrupt:\n",
    "    print('\\n')"
   ]
  },
  {
   "cell_type": "code",
   "execution_count": null,
   "id": "6e84203a-099b-4c8f-a4b1-880d9fb37f6f",
   "metadata": {},
   "outputs": [],
   "source": []
  },
  {
   "cell_type": "code",
   "execution_count": null,
   "id": "65f5b54f-0441-4588-968d-fb26a464a17d",
   "metadata": {},
   "outputs": [],
   "source": []
  }
 ],
 "metadata": {
  "kernelspec": {
   "display_name": "Python 3 (ipykernel)",
   "language": "python",
   "name": "python3"
  },
  "language_info": {
   "codemirror_mode": {
    "name": "ipython",
    "version": 3
   },
   "file_extension": ".py",
   "mimetype": "text/x-python",
   "name": "python",
   "nbconvert_exporter": "python",
   "pygments_lexer": "ipython3",
   "version": "3.8.13"
  }
 },
 "nbformat": 4,
 "nbformat_minor": 5
}
