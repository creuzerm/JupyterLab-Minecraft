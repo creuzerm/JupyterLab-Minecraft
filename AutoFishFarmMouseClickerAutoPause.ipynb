{
 "cells": [
  {
   "cell_type": "markdown",
   "id": "d8bbf1b4-e637-415a-a989-4c1943b3a2e2",
   "metadata": {},
   "source": [
    "# Auto Fish Farm Clicker\n",
    "\n",
    "This will produce mouse clicks as if you where clicking your mouse. \n",
    "\n",
    "Uses some primative machine vision to detect common UI elements so it stops issuing mouse clicks when they no longer make sense to do so. \n",
    "\n",
    "A cheat sheet of what you can do can be found at https://pyautogui.readthedocs.io/en/latest/quickstart.html "
   ]
  },
  {
   "cell_type": "code",
   "execution_count": 1,
   "id": "e9130caa-b338-4f06-9b82-1db5f8faf641",
   "metadata": {},
   "outputs": [],
   "source": [
    "# This try import is useful for brand new JupyterLab installs as the libraries may not yet be downloaded.\n",
    "try:\n",
    "    import pyautogui\n",
    "except ModuleNotFoundError:\n",
    "    ! pip install pyautogui\n",
    "    import pyautogui\n",
    "    pass\n",
    "\n",
    "try:\n",
    "    import cv2\n",
    "except ModuleNotFoundError:\n",
    "    ! pip install --upgrade pip\n",
    "    ! pip install opencv-python\n",
    "    import cv2\n",
    "    pass\n",
    "\n",
    "import time\n"
   ]
  },
  {
   "cell_type": "code",
   "execution_count": 2,
   "id": "2200d433-e073-4cf0-bde8-b16c401148ee",
   "metadata": {},
   "outputs": [],
   "source": [
    "# Inspect screen for UI controls\n",
    "\n",
    "def pausedUI():\n",
    "    # Check for UI close button\n",
    "    InvertableReturn = pyautogui.locateOnScreen('UICloseButton.png');    \n",
    "    if not InvertableReturn:\n",
    "        # Check for Escape game\n",
    "        InvertableReturn = pyautogui.locateOnScreen('Resume.png');\n",
    "    if not InvertableReturn:\n",
    "        # Check for Escape game\n",
    "        InvertableReturn = pyautogui.locateOnScreen('ResumeGreen.png');\n",
    "    if not InvertableReturn:\n",
    "        # Check for server disconnect\n",
    "        InvertableReturn = pyautogui.locateOnScreen('Disconnected From Server.png');\n",
    "    \n",
    "    return InvertableReturn"
   ]
  },
  {
   "cell_type": "code",
   "execution_count": 18,
   "id": "7e6e6449-127c-4623-a11a-1a6ef2ab5916",
   "metadata": {},
   "outputs": [
    {
     "name": "stdout",
     "output_type": "stream",
     "text": [
      "Starting\n",
      "Running\n",
      "Finished\n"
     ]
    }
   ],
   "source": [
    "pyautogui.FAILSAFE = True # When fail-safe mode is True, moving the mouse to the upper-left will raise a pyautogui.FailSafeException that can abort your program\n",
    "\n",
    "print('Starting')\n",
    "# We likely have tabbed out of Minecraft to start this script, so wait while we tab back in and get to the game\n",
    "try:\n",
    "    while pausedUI():\n",
    "        time.sleep(1)\n",
    "except KeyboardInterrupt:\n",
    "    print('Error Starting')\n",
    "\n",
    "print('Running')\n",
    "\n",
    "# Click while we don't see the UI for things like the invntory screen or the exit screen.\n",
    "try:\n",
    "    while not pausedUI():\n",
    "        pyautogui.click(button='right', x= 100 , y=100)\n",
    "        time.sleep(6)\n",
    "        pyautogui.click(button='right', x= 100 , y=100)\n",
    "        time.sleep(.5)\n",
    "except KeyboardInterrupt:\n",
    "    print('Error Running')\n",
    "    \n",
    "print('Finished')"
   ]
  },
  {
   "cell_type": "code",
   "execution_count": null,
   "id": "32c83385-5468-430d-8901-e639d1e9d5db",
   "metadata": {},
   "outputs": [],
   "source": []
  },
  {
   "cell_type": "code",
   "execution_count": null,
   "id": "dfef3d55-28bc-4e72-8957-72ec5dedf5ca",
   "metadata": {},
   "outputs": [],
   "source": []
  }
 ],
 "metadata": {
  "kernelspec": {
   "display_name": "Python 3 (ipykernel)",
   "language": "python",
   "name": "python3"
  },
  "language_info": {
   "codemirror_mode": {
    "name": "ipython",
    "version": 3
   },
   "file_extension": ".py",
   "mimetype": "text/x-python",
   "name": "python",
   "nbconvert_exporter": "python",
   "pygments_lexer": "ipython3",
   "version": "3.8.13"
  }
 },
 "nbformat": 4,
 "nbformat_minor": 5
}
