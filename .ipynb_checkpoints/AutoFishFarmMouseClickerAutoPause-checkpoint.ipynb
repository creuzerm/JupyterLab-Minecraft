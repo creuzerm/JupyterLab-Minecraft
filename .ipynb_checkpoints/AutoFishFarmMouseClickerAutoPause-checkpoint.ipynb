{
 "cells": [
  {
   "cell_type": "markdown",
   "id": "d8bbf1b4-e637-415a-a989-4c1943b3a2e2",
   "metadata": {},
   "source": [
    "# Auto Fish Farm Clicker\n",
    "\n",
    "This will produce mouse clicks as if you where clicking your mouse.\n",
    "\n",
    "A cheat sheet of what you can do can be found at https://pyautogui.readthedocs.io/en/latest/quickstart.html "
   ]
  },
  {
   "cell_type": "code",
   "execution_count": null,
   "id": "e9130caa-b338-4f06-9b82-1db5f8faf641",
   "metadata": {},
   "outputs": [],
   "source": [
    "# This try import is useful for brand new JupyterLab installs as the libraries may not yet be downloaded.\n",
    "try:\n",
    "    import pyautogui\n",
    "except ModuleNotFoundError:\n",
    "    ! pip install pyautogui\n",
    "    import pyautogui\n",
    "    pass\n",
    "\n",
    "try:\n",
    "    import cv2\n",
    "except ModuleNotFoundError:\n",
    "    ! pip install --upgrade pip\n",
    "    ! pip install opencv-python\n",
    "    import cv2\n",
    "    pass\n",
    "\n",
    "import time\n"
   ]
  },
  {
   "cell_type": "code",
   "execution_count": null,
   "id": "2200d433-e073-4cf0-bde8-b16c401148ee",
   "metadata": {},
   "outputs": [],
   "source": [
    "# Inspect screen for UI controls\n",
    "\n",
    "def PausableUI():\n",
    "    # Check for UI close button\n",
    "    InvertableReturn = pyautogui.locateOnScreen('UICloseButton.png');    \n",
    "    if not InvertableReturn:\n",
    "        # Check for Escape game\n",
    "        InvertableReturn = pyautogui.locateOnScreen('Resume.png');\n",
    "    if not InvertableReturn:\n",
    "        # Check for Escape game\n",
    "        InvertableReturn = pyautogui.locateOnScreen('ResumeGreen.png');\n",
    "    if not InvertableReturn:\n",
    "        # Check for server disconnect\n",
    "        InvertableReturn = pyautogui.locateOnScreen('Disconnected From Server.png');\n",
    "    \n",
    "    return not InvertableReturn\n",
    "        \n",
    "    \n",
    "    "
   ]
  },
  {
   "cell_type": "code",
   "execution_count": null,
   "id": "7e6e6449-127c-4623-a11a-1a6ef2ab5916",
   "metadata": {},
   "outputs": [],
   "source": [
    "pyautogui.FAILSAFE = True # When fail-safe mode is True, moving the mouse to the upper-left will raise a pyautogui.FailSafeException that can abort your program\n",
    "\n",
    "try:\n",
    "    while not PausableUI():\n",
    "        time.sleep(1)\n",
    "except KeyboardInterrupt:\n",
    "    print('Error Starting')\n",
    "\n",
    "print('Starting')\n",
    "\n",
    "\n",
    "try:\n",
    "    while PausableUI():\n",
    "        pyautogui.click(button='right', x= 100 , y=100)\n",
    "        time.sleep(6)\n",
    "        pyautogui.click(button='right', x= 100 , y=100)\n",
    "        time.sleep(.5)\n",
    "except KeyboardInterrupt:\n",
    "    print('Error Running')\n",
    "    \n",
    "print('Finished')"
   ]
  }
 ],
 "metadata": {
  "kernelspec": {
   "display_name": "Python 3 (ipykernel)",
   "language": "python",
   "name": "python3"
  },
  "language_info": {
   "codemirror_mode": {
    "name": "ipython",
    "version": 3
   },
   "file_extension": ".py",
   "mimetype": "text/x-python",
   "name": "python",
   "nbconvert_exporter": "python",
   "pygments_lexer": "ipython3",
   "version": "3.8.13"
  }
 },
 "nbformat": 4,
 "nbformat_minor": 5
}
